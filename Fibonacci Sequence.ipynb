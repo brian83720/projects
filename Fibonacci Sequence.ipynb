{
 "cells": [
  {
   "cell_type": "code",
   "execution_count": 6,
   "metadata": {},
   "outputs": [
    {
     "name": "stdout",
     "output_type": "stream",
     "text": [
      "How many numbers do you want? 9\n",
      "1, 1, 2, 3, 5, 8, 13, 21, 34\n"
     ]
    }
   ],
   "source": [
    "def fibseq(n):\n",
    "    '''\n",
    "    Create a fibonacci sequence with the size of n\n",
    "    '''\n",
    "    assert n > -1  ### does not go into negative\n",
    "    \n",
    "    series = [1]   ### create a list to put our numbers in\n",
    "    \n",
    "    ### Main Caluculations and append numbers to list\n",
    "    while len(series) < n:\n",
    "        if len(series) == 1:\n",
    "            series.append(1)\n",
    "        else:\n",
    "            series.append(series[-1] + series[-2])\n",
    "            \n",
    "    ### Turn into string        \n",
    "    for i in range(len(series)):\n",
    "        series[i] = str(series[i])\n",
    "    return(', '.join(series))\n",
    "\n",
    "\n",
    "def main():  ### Wrapper function    \n",
    "    print(fibseq(int(input(\"How many numbers do you want? \"))))\n",
    "        \n",
    "    \n",
    "if __name__ == '__main__':\n",
    "    main()\n",
    "    \n",
    "        "
   ]
  }
 ],
 "metadata": {
  "kernelspec": {
   "display_name": "Python 3",
   "language": "python",
   "name": "python3"
  },
  "language_info": {
   "codemirror_mode": {
    "name": "ipython",
    "version": 3
   },
   "file_extension": ".py",
   "mimetype": "text/x-python",
   "name": "python",
   "nbconvert_exporter": "python",
   "pygments_lexer": "ipython3",
   "version": "3.6.5"
  }
 },
 "nbformat": 4,
 "nbformat_minor": 2
}
